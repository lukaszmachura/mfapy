{
 "cells": [
  {
   "cell_type": "code",
   "execution_count": 435,
   "id": "e79ba194",
   "metadata": {},
   "outputs": [
    {
     "name": "stdout",
     "output_type": "stream",
     "text": [
      "LICENSE\n",
      "README.md\n",
      "mfa.py\n",
      "pymfa_tmp.ipynb\n",
      "[master 5f4c89a] tmp notebook update\n",
      " 1 file changed, 10 insertions(+), 25 deletions(-)\n"
     ]
    },
    {
     "name": "stderr",
     "output_type": "stream",
     "text": [
      "To github.com:lukaszmachura/pymfa.git\n",
      "   7247684..5f4c89a  master -> master\n"
     ]
    }
   ],
   "source": [
    "# %%bash\n",
    "# ls\n",
    "# git add .\n",
    "# git commit -m 'tmp notebook update'\n",
    "# git push"
   ]
  },
  {
   "cell_type": "code",
   "execution_count": 362,
   "id": "e303ce40",
   "metadata": {},
   "outputs": [],
   "source": [
    "# artificial data\n",
    "import random\n",
    "N = 2 ** 14\n",
    "x = [random.gauss(0, 2) for i in range(N)]\n",
    "\n",
    "# plt.plot(x)"
   ]
  },
  {
   "cell_type": "code",
   "execution_count": 428,
   "id": "cfd9c665",
   "metadata": {},
   "outputs": [],
   "source": [
    "import matplotlib.pyplot as plt\n",
    "import numpy as np\n",
    "\n",
    "\n",
    "class DFA:\n",
    "    \"\"\"\n",
    "    Attributes\n",
    "    data: numpy array - data\n",
    "    X: numpy array - normalized data\n",
    "    scales: list - list of scales\n",
    "    fluctuating_function: list - average fluctuating function for a scale\n",
    "    \n",
    "    _scales_base: list - base for calculating scales\n",
    "    \"\"\"\n",
    "    \n",
    "    def __init__(self, data):\n",
    "        self.data = data\n",
    "        self.m = 1\n",
    "        \n",
    "    @property\n",
    "    def data(self):\n",
    "        return self.__data\n",
    "    \n",
    "    @data.setter\n",
    "    def data(self, var):\n",
    "        self.__data = np.asarray(var)\n",
    "        \n",
    "    def normalize(self):\n",
    "        mean = np.mean(self.data)\n",
    "        std = np.std(self.data)\n",
    "        return (self.data - mean) / std\n",
    "        \n",
    "    def cumsum(self):\n",
    "        x = self.data - np.mean(self.data)\n",
    "        self.X = np.cumsum(x)\n",
    "        return self.X\n",
    "\n",
    "    def set_scales(self, scales='auto', scales_no=None, base=2):\n",
    "        if isinstance(scales, (tuple, list, np.ndarray)):\n",
    "            \"OK\"\n",
    "        else:\n",
    "            # print('automatic scales')\n",
    "            length = self.data.size\n",
    "            if base == 2:\n",
    "                minimal = 4\n",
    "                maximal = int(np.log2(length // 10))\n",
    "            elif base == 10:\n",
    "                minimal = 1\n",
    "                maximal = int(np.log10(length // 10))\n",
    "            else:\n",
    "                raise ValueError('base can be 2 or 10')\n",
    "            \n",
    "            if not scales_no:\n",
    "                scales_no = maximal - minimal + 1\n",
    "                \n",
    "            scales = sorted(set([int(base ** p) for p in np.linspace(minimal, maximal, scales_no)]))\n",
    "        \n",
    "        if 'fluctuating_function' in self.__dict__:\n",
    "            del self.__dict__['fluctuating_function']\n",
    "        self._scales_base = base\n",
    "        self.scales = scales\n",
    "        return self.scales\n",
    "\n",
    "    def F(self):\n",
    "        if 'X' not in self.__dict__:\n",
    "            self.cumsum()\n",
    "        \n",
    "        if 'scales' not in self.__dict__:\n",
    "            self.set_scales()\n",
    "        \n",
    "        self.fluctuating_function = []\n",
    "        for s in self.scales:\n",
    "            segments = int(len(self.X)/s)\n",
    "            \n",
    "            RMS_dla_skali = []\n",
    "            for v in range(segments):\n",
    "                idx_start = v * s\n",
    "                idx_stop  = idx_start + s\n",
    "\n",
    "                C = np.polyfit(range(idx_start, idx_stop), self.X[idx_start:idx_stop], self.m)\n",
    "                fit = np.poly1d(C)\n",
    "                _b = np.sqrt(np.mean((self.X[idx_start:idx_stop] - fit(range(idx_start,idx_stop))) ** 2))\n",
    "                RMS_dla_skali.append(_b)\n",
    "            \n",
    "            _ff = np.sqrt(np.mean(RMS_dla_skali) ** 2)\n",
    "            self.fluctuating_function.append(_ff)\n",
    "            \n",
    "        return self.fluctuating_function\n",
    "    \n",
    "    def hurst(self):\n",
    "        if 'scales' not in self.__dict__:\n",
    "            self.set_scales()\n",
    "\n",
    "        if 'fluctuating_function' not in self.__dict__:\n",
    "            self.F()\n",
    "            \n",
    "        slope, y_intercept = np.polyfit(np.log2(self.scales), np.log2(self.fluctuating_function), 1)\n",
    "        \n",
    "        self.hurst_exponent = slope\n",
    "        return self.hurst_exponent\n",
    "    \n",
    "    def plot_Fs(self):\n",
    "        import matplotlib.pyplot as plt\n",
    "        \n",
    "        if 'hurst_exponent' not in self.__dict__:\n",
    "            self.hurst()\n",
    "        \n",
    "        x, y = self.scales, self.fluctuating_function\n",
    "        plt.loglog(x, y, 'o-', label=f'H={self.hurst_exponent:.2f}')\n",
    "        plt.legend()\n",
    "        plt.xlabel('s')\n",
    "        plt.ylabel('F(s)')\n",
    "        plt.xscale('log', base=self._scales_base)\n",
    "        plt.yscale('log', base=self._scales_base)"
   ]
  },
  {
   "cell_type": "code",
   "execution_count": 429,
   "id": "c22fe01e",
   "metadata": {},
   "outputs": [],
   "source": [
    "d = DFA(x)\n",
    "\n",
    "# d.set_scales(), d.set_scales([10, 33, 66]), d.set_scales(powerof=10), d.set_scales(np.linspace(1, 10, 10))\n",
    "# d.fluctuating_function()\n",
    "# plt.plot(d.cumsum())\n",
    "# plt.plot(x)"
   ]
  },
  {
   "cell_type": "code",
   "execution_count": 430,
   "id": "dfe11914",
   "metadata": {},
   "outputs": [
    {
     "data": {
      "text/plain": [
       "0.4825565452574276"
      ]
     },
     "execution_count": 430,
     "metadata": {},
     "output_type": "execute_result"
    }
   ],
   "source": [
    "# d.set_scales([10, 20, 30, 40, 155])\n",
    "# d.set_scales(base=2)\n",
    "d.set_scales(scales_no=18)\n",
    "d.hurst()"
   ]
  },
  {
   "cell_type": "code",
   "execution_count": 431,
   "id": "ec823a3b",
   "metadata": {},
   "outputs": [
    {
     "data": {
      "text/plain": [
       "2"
      ]
     },
     "execution_count": 431,
     "metadata": {},
     "output_type": "execute_result"
    }
   ],
   "source": [
    "d._scales_base"
   ]
  },
  {
   "cell_type": "code",
   "execution_count": 432,
   "id": "83bcdcf5",
   "metadata": {},
   "outputs": [
    {
     "data": {
      "image/png": "[encoded data removed]",
      "text/plain": [
       "<Figure size 432x288 with 1 Axes>"
      ]
     },
     "metadata": {
      "needs_background": "light"
     },
     "output_type": "display_data"
    }
   ],
   "source": [
    "d.plot_Fs()"
   ]
  },
  {
   "cell_type": "code",
   "execution_count": null,
   "id": "6256c6c7",
   "metadata": {},
   "outputs": [],
   "source": []
  },
  {
   "cell_type": "code",
   "execution_count": null,
   "id": "c00b709e",
   "metadata": {},
   "outputs": [],
   "source": []
  }
 ],
 "metadata": {
  "kernelspec": {
   "display_name": "Python 3 (ipykernel)",
   "language": "python",
   "name": "python3"
  },
  "language_info": {
   "codemirror_mode": {
    "name": "ipython",
    "version": 3
   },
   "file_extension": ".py",
   "mimetype": "text/x-python",
   "name": "python",
   "nbconvert_exporter": "python",
   "pygments_lexer": "ipython3",
   "version": "3.9.5"
  }
 },
 "nbformat": 4,
 "nbformat_minor": 5
}
